{
 "cells": [
  {
   "cell_type": "code",
   "execution_count": 4,
   "id": "2c51efaa",
   "metadata": {},
   "outputs": [
    {
     "name": "stdout",
     "output_type": "stream",
     "text": [
      "scikit-learn==1.2.2\n"
     ]
    }
   ],
   "source": [
    "!pip freeze | grep scikit-learn"
   ]
  },
  {
   "cell_type": "code",
   "execution_count": 5,
   "id": "4acf73a0-51b5-4663-9bb8-8eb947863e17",
   "metadata": {},
   "outputs": [
    {
     "name": "stdout",
     "output_type": "stream",
     "text": [
      "Python 3.10.12\n"
     ]
    }
   ],
   "source": [
    "!python -V"
   ]
  },
  {
   "cell_type": "code",
   "execution_count": 6,
   "id": "0ef880a0",
   "metadata": {},
   "outputs": [],
   "source": [
    "import os\n",
    "import pickle\n",
    "import pandas as pd\n",
    "import numpy as np"
   ]
  },
  {
   "cell_type": "code",
   "execution_count": 7,
   "id": "0bfc3ea8",
   "metadata": {},
   "outputs": [
    {
     "name": "stdout",
     "output_type": "stream",
     "text": [
      "/home/gurlich/mlops-zoomcamp/cohorts/2024/04-deployment/solution\n"
     ]
    }
   ],
   "source": [
    "!pwd"
   ]
  },
  {
   "cell_type": "code",
   "execution_count": 28,
   "id": "58faea0e",
   "metadata": {},
   "outputs": [],
   "source": [
    "# datasets located in \"data/\" folder from working directory\n",
    "# homework artifacts located in \"cohorts/2024/04-deployment/solution/\"\n",
    "HOMEWORK_FOLDER = \"/home/gurlich/mlops-zoomcamp/cohorts/2024/04-deployment/solution\"\n",
    "HOMEWORK_FOLDER = \".\""
   ]
  },
  {
   "cell_type": "code",
   "execution_count": 29,
   "id": "7836ccfd",
   "metadata": {},
   "outputs": [
    {
     "name": "stderr",
     "output_type": "stream",
     "text": [
      "/home/gurlich/mlops-zoomcamp/mlops_venv/lib/python3.10/site-packages/sklearn/base.py:318: UserWarning: Trying to unpickle estimator DictVectorizer from version 1.5.0 when using version 1.2.2. This might lead to breaking code or invalid results. Use at your own risk. For more info please refer to:\n",
      "https://scikit-learn.org/stable/model_persistence.html#security-maintainability-limitations\n",
      "  warnings.warn(\n",
      "/home/gurlich/mlops-zoomcamp/mlops_venv/lib/python3.10/site-packages/sklearn/base.py:318: UserWarning: Trying to unpickle estimator LinearRegression from version 1.5.0 when using version 1.2.2. This might lead to breaking code or invalid results. Use at your own risk. For more info please refer to:\n",
      "https://scikit-learn.org/stable/model_persistence.html#security-maintainability-limitations\n",
      "  warnings.warn(\n"
     ]
    }
   ],
   "source": [
    "with open(f'{HOMEWORK_FOLDER}/model.bin', 'rb') as f_in:\n",
    "    dv, model = pickle.load(f_in)"
   ]
  },
  {
   "cell_type": "code",
   "execution_count": 16,
   "id": "41c08294",
   "metadata": {},
   "outputs": [],
   "source": [
    "categorical = ['PULocationID', 'DOLocationID']\n",
    "\n",
    "def read_data(filename):\n",
    "    df = pd.read_parquet(filename)\n",
    "    \n",
    "    df['duration'] = df.tpep_dropoff_datetime - df.tpep_pickup_datetime\n",
    "    df['duration'] = df.duration.dt.total_seconds() / 60\n",
    "\n",
    "    df = df[(df.duration >= 1) & (df.duration <= 60)].copy()\n",
    "\n",
    "    df[categorical] = df[categorical].fillna(-1).astype('int').astype('str')\n",
    "    \n",
    "    return df"
   ]
  },
  {
   "cell_type": "code",
   "execution_count": 18,
   "id": "4854399a",
   "metadata": {},
   "outputs": [],
   "source": [
    "# df = read_data('https://d37ci6vzurychx.cloudfront.net/trip-data/yellow_tripdata_????-??.parquet')\n",
    "df = read_data('~/mlops-zoomcamp/data/yellow_tripdata_2023-03.parquet')"
   ]
  },
  {
   "cell_type": "code",
   "execution_count": 19,
   "id": "669fda0a",
   "metadata": {},
   "outputs": [],
   "source": [
    "dicts = df[categorical].to_dict(orient='records')\n",
    "X_val = dv.transform(dicts)\n",
    "y_pred = model.predict(X_val)"
   ]
  },
  {
   "cell_type": "code",
   "execution_count": 20,
   "id": "bf532ae7-1897-428c-ba0c-875ccaf7d76c",
   "metadata": {},
   "outputs": [
    {
     "data": {
      "text/plain": [
       "array([16.24590642, 26.1347962 , 11.88426424, ..., 11.59533603,\n",
       "       13.11317847, 12.89999218])"
      ]
     },
     "execution_count": 20,
     "metadata": {},
     "output_type": "execute_result"
    }
   ],
   "source": [
    "y_pred"
   ]
  },
  {
   "cell_type": "markdown",
   "id": "84bdb2f1",
   "metadata": {},
   "source": []
  },
  {
   "cell_type": "markdown",
   "id": "3e7a7624",
   "metadata": {},
   "source": [
    "### Q1 Calculate standart deviation"
   ]
  },
  {
   "cell_type": "code",
   "execution_count": 31,
   "id": "d9a7e6bf",
   "metadata": {},
   "outputs": [
    {
     "name": "stdout",
     "output_type": "stream",
     "text": [
      "Standart deviation of the predicted duration: 6.25\n"
     ]
    }
   ],
   "source": [
    "stnd_dev = np.std(y_pred)\n",
    "print(f\"Standart deviation of the predicted duration: {stnd_dev:.2f}\")"
   ]
  },
  {
   "cell_type": "markdown",
   "id": "e88ccb15",
   "metadata": {},
   "source": [
    "### Q2 Preparing the output"
   ]
  },
  {
   "cell_type": "code",
   "execution_count": 22,
   "id": "c3e069ae",
   "metadata": {},
   "outputs": [],
   "source": [
    "year = 2023\n",
    "month = 3"
   ]
  },
  {
   "cell_type": "code",
   "execution_count": 23,
   "id": "553b9ea5",
   "metadata": {},
   "outputs": [],
   "source": [
    "df['ride_id'] = f'{year:04d}/{month:02d}_' + df.index.astype('str')"
   ]
  },
  {
   "cell_type": "code",
   "execution_count": 24,
   "id": "0d364a40",
   "metadata": {},
   "outputs": [],
   "source": [
    "df_result = pd.DataFrame()\n",
    "\n",
    "df_result['ride_id'] = df['ride_id']\n",
    "df_result['predict'] = y_pred"
   ]
  },
  {
   "cell_type": "code",
   "execution_count": 25,
   "id": "dcfbba23",
   "metadata": {},
   "outputs": [],
   "source": [
    "output_dir = f\"{HOMEWORK_FOLDER}/output\"\n",
    "# create directory if not exists\n",
    "os.makedirs(output_dir, exist_ok=True)\n",
    "\n",
    "output_file = f\"predict-{year:04d}-{month:02d}.parquet\"\n",
    "file_path = output_dir+'/'+output_file"
   ]
  },
  {
   "cell_type": "code",
   "execution_count": 26,
   "id": "4e960982",
   "metadata": {},
   "outputs": [],
   "source": [
    "df_result.to_parquet(\n",
    "    file_path,\n",
    "    engine='pyarrow',\n",
    "    compression=None,\n",
    "    index=False\n",
    ")"
   ]
  },
  {
   "cell_type": "code",
   "execution_count": 33,
   "id": "ae0cb7d1",
   "metadata": {},
   "outputs": [
    {
     "name": "stdout",
     "output_type": "stream",
     "text": [
      "File size 'predict-2023-03.parquet': 65.16 MB\n"
     ]
    }
   ],
   "source": [
    "\n",
    "file_size = os.path.getsize(file_path)\n",
    "print(f\"File size '{output_file}': {file_size/1024/1024:.2f} MB\")"
   ]
  },
  {
   "cell_type": "markdown",
   "id": "ffe5f8b9",
   "metadata": {},
   "source": [
    "### Q5 mean predicted duration"
   ]
  },
  {
   "cell_type": "code",
   "execution_count": 36,
   "id": "9440d236",
   "metadata": {},
   "outputs": [
    {
     "name": "stdout",
     "output_type": "stream",
     "text": [
      "Mean predicted duration: 14.20\n"
     ]
    }
   ],
   "source": [
    "mean_duration = np.mean(y_pred)\n",
    "print(f\"Mean predicted duration: {mean_duration:.2f}\")"
   ]
  }
 ],
 "metadata": {
  "kernelspec": {
   "display_name": "Python 3 (ipykernel)",
   "language": "python",
   "name": "python3"
  },
  "language_info": {
   "codemirror_mode": {
    "name": "ipython",
    "version": 3
   },
   "file_extension": ".py",
   "mimetype": "text/x-python",
   "name": "python",
   "nbconvert_exporter": "python",
   "pygments_lexer": "ipython3",
   "version": "3.10.12"
  }
 },
 "nbformat": 4,
 "nbformat_minor": 5
}
